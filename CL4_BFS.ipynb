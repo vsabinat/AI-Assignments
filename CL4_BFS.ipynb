{
 "cells": [
  {
   "cell_type": "code",
   "execution_count": 2,
   "metadata": {},
   "outputs": [],
   "source": [
    "import numpy as np\n",
    "import pandas as pd\n",
    "import networkx as nx"
   ]
  },
  {
   "cell_type": "code",
   "execution_count": 12,
   "metadata": {},
   "outputs": [
    {
     "name": "stdout",
     "output_type": "stream",
     "text": [
      "(0, 2)\n",
      "(0, 3)\n",
      "(1, 0)\n",
      "(1, 3)\n",
      "(2, 0)\n",
      "(3, 0)\n",
      "(3, 1)\n"
     ]
    }
   ],
   "source": [
    "# My adjacency matrix\n",
    "A =  np.array([[0, 0, 1, 1], \n",
    "               [1, 0, 0, 1], \n",
    "               [1, 0, 0, 0], \n",
    "               [1, 1, 0 ,0]])\n",
    "\n",
    "g = nx.from_numpy_matrix(A)"
   ]
  },
  {
   "cell_type": "code",
   "execution_count": 13,
   "metadata": {},
   "outputs": [
    {
     "name": "stdout",
     "output_type": "stream",
     "text": [
      "(0, 2)\n",
      "(0, 3)\n",
      "(1, 0)\n",
      "(1, 3)\n",
      "(2, 0)\n",
      "(3, 0)\n",
      "(3, 1)\n"
     ]
    }
   ],
   "source": [
    "# BFS Search function\n",
    "def edges(adj):\n",
    "    for i, neighbors in enumerate(adj):\n",
    "        for j, v in enumerate(neighbors):\n",
    "            if v:\n",
    "                yield (i, j)\n",
    "                \n",
    "\n",
    "for edge in edges(A):\n",
    "    print(edge)"
   ]
  },
  {
   "cell_type": "code",
   "execution_count": 15,
   "metadata": {},
   "outputs": [
    {
     "name": "stdout",
     "output_type": "stream",
     "text": [
      "[1, 3, 5, 6, 7, 2, 4]\n"
     ]
    }
   ],
   "source": [
    "# DFS Search function\n",
    "def dfs_recursive(graph, vertex, path=[]):\n",
    "    path += [vertex]\n",
    "\n",
    "    for neighbor in graph[vertex]:\n",
    "        if neighbor not in path:\n",
    "            path = dfs_recursive(graph, neighbor, path)\n",
    "\n",
    "    return path\n",
    "\n",
    "adjacency_matrix = {1: [2, 3], 2: [4, 5],\n",
    "                    3: [5], 4: [6], 5: [6],\n",
    "                    6: [7], 7: []}\n",
    "\n",
    "print(dfs_iterative(adjacency_matrix, 1))"
   ]
  }
 ],
 "metadata": {
  "kernelspec": {
   "display_name": "Python 3",
   "language": "python",
   "name": "python3"
  },
  "language_info": {
   "codemirror_mode": {
    "name": "ipython",
    "version": 3
   },
   "file_extension": ".py",
   "mimetype": "text/x-python",
   "name": "python",
   "nbconvert_exporter": "python",
   "pygments_lexer": "ipython3",
   "version": "3.7.3"
  }
 },
 "nbformat": 4,
 "nbformat_minor": 2
}
