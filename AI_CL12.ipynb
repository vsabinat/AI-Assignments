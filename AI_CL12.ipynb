{
  "nbformat": 4,
  "nbformat_minor": 0,
  "metadata": {
    "colab": {
      "name": "AI_CL12.ipynb",
      "provenance": [],
      "collapsed_sections": []
    },
    "kernelspec": {
      "name": "python3",
      "display_name": "Python 3"
    }
  },
  "cells": [
    {
      "cell_type": "code",
      "metadata": {
        "id": "S1v1AwAK3DMW",
        "colab_type": "code",
        "colab": {}
      },
      "source": [
        "#take a dataset with multiple random independent\n",
        "# Find all values of b0, b1, b2, b3,...... for all indep vars for all values between -10000 and 10000\n",
        "# calculate error of each\n",
        "\n",
        "import numpy as np\n",
        "import pandas as pd\n",
        "import random\n",
        "import statistics\n"
      ],
      "execution_count": 0,
      "outputs": []
    },
    {
      "cell_type": "code",
      "metadata": {
        "id": "BghWDq4L3H8q",
        "colab_type": "code",
        "outputId": "e072088a-e037-4a68-e04b-6411105a0b5b",
        "colab": {
          "base_uri": "https://localhost:8080/",
          "height": 153
        }
      },
      "source": [
        "df = pd.read_csv(\"/gapminder.csv\")\n",
        "print(df.head())"
      ],
      "execution_count": 57,
      "outputs": [
        {
          "output_type": "stream",
          "text": [
            "   population  fertility  ...  child_mortality                      Region\n",
            "0  34811059.0       2.73  ...             29.5  Middle East & North Africa\n",
            "1  19842251.0       6.43  ...            192.0          Sub-Saharan Africa\n",
            "2  40381860.0       2.24  ...             15.4                     America\n",
            "3   2975029.0       1.40  ...             20.0       Europe & Central Asia\n",
            "4  21370348.0       1.96  ...              5.2         East Asia & Pacific\n",
            "\n",
            "[5 rows x 10 columns]\n"
          ],
          "name": "stdout"
        }
      ]
    },
    {
      "cell_type": "code",
      "metadata": {
        "id": "Ac23vVFq3W0U",
        "colab_type": "code",
        "outputId": "997e76a9-0f0f-4539-e950-81d90abe10d7",
        "colab": {
          "base_uri": "https://localhost:8080/",
          "height": 153
        }
      },
      "source": [
        "df.drop(['Region'], axis=1, inplace=True)\n",
        "print(df.head())\n"
      ],
      "execution_count": 58,
      "outputs": [
        {
          "output_type": "stream",
          "text": [
            "   population  fertility  HIV  ...  BMI_female  life  child_mortality\n",
            "0  34811059.0       2.73  0.1  ...    129.9049  75.3             29.5\n",
            "1  19842251.0       6.43  2.0  ...    130.1247  58.3            192.0\n",
            "2  40381860.0       2.24  0.5  ...    118.8915  75.5             15.4\n",
            "3   2975029.0       1.40  0.1  ...    132.8108  72.5             20.0\n",
            "4  21370348.0       1.96  0.1  ...    117.3755  81.5              5.2\n",
            "\n",
            "[5 rows x 9 columns]\n"
          ],
          "name": "stdout"
        }
      ]
    },
    {
      "cell_type": "code",
      "metadata": {
        "id": "K-dDnja5GiX3",
        "colab_type": "code",
        "colab": {}
      },
      "source": [
        "def calc_rmse(n):\n",
        "  # generate random number for every x variable\n",
        "  valsx = []\n",
        "\n",
        "  for i in range(0, 1000):\n",
        "    listarr = []\n",
        "    # generate random number for each feature. Between 0 and 1000\n",
        "    for x in range(0,8):\n",
        "      xrand = random.randint(0, 1000)\n",
        "      listarr.append(xrand)\n",
        "\n",
        "  valsx.append(listarr)\n",
        "  \n",
        "  x = df.head(n)\n",
        "\n",
        "  y = x['life']\n",
        "  x = x.drop(['life'], axis = 1)\n",
        "\n",
        "  xlist = list(x)\n",
        "  ylist = list(y)\n",
        "\n",
        "#  print(xlist)\n",
        "#  print(ylist)\n",
        "  \n",
        "\n",
        "  df1 = pd.DataFrame(np.multiply(x, valsx), columns=xlist)\n",
        "  df1['life_pred'] = df1['population']+df1['fertility']+df1['HIV']+df1['CO2']+df1['BMI_male']+df1['GDP']+df1['BMI_female']+df1['child_mortality']\n",
        "  df1['life_act'] = y.values\n",
        "  \n",
        "  df1['error'] = df1['life_pred'] - df1['life_act']\n",
        "  df1['sq_error'] = df1['error']*df1['error']\n",
        "\n",
        "  df1_mean = statistics.mean(df1['sq_error'])\n",
        "\n",
        "  df1_rmse = np.sqrt(df1_mean)\n",
        "  return valsx, df1_rmse\n",
        "\n",
        "#   cols = ['RMSE', 'Coefficient']\n",
        "\n",
        "#   output_df = pd.DataFrame()\n",
        "#   output_df['Coefficients'] = list([valsx])\n",
        "#   output_df['RMSE'] = df1_rmse\n"
      ],
      "execution_count": 0,
      "outputs": []
    },
    {
      "cell_type": "code",
      "metadata": {
        "id": "BpgkN5cuBXPN",
        "colab_type": "code",
        "outputId": "745ba50b-f29b-4a8a-c85f-54034d3a85d0",
        "colab": {
          "base_uri": "https://localhost:8080/",
          "height": 1000
        }
      },
      "source": [
        "n = 50\n",
        "\n",
        "#cols = ['RMSE', 'Coefficient']\n",
        "\n",
        "output_df = pd.DataFrame()\n",
        "\n",
        "for z in range(1, n):\n",
        "  valsx, rmse = calc_rmse(z)\n",
        "  print(\"hello\")\n",
        "  print(valsx)\n",
        "  print(rmse)\n",
        "  s = pd.Series(valsx)\n",
        "  output_df = output_df.append(pd.Series([rmse, s]), ignore_index=True)\n",
        "#   np.append(output_df, [rmse, list([valsx])])\n",
        "#   output_df.append(np.concatenate(rmse, list([valsx]))\n"
      ],
      "execution_count": 67,
      "outputs": [
        {
          "output_type": "stream",
          "text": [
            "hello\n",
            "[[575, 337, 775, 372, 323, 601, 340, 440]]\n",
            "20023826891.816013\n",
            "hello\n",
            "[[285, 888, 591, 18, 716, 989, 151, 910]]\n",
            "8084980801.605282\n",
            "hello\n",
            "[[333, 403, 819, 866, 4, 752, 66, 168]]\n",
            "10945993178.379353\n",
            "hello\n",
            "[[862, 943, 888, 226, 372, 122, 715, 155]]\n",
            "24553501321.973576\n",
            "hello\n",
            "[[250, 869, 7, 189, 218, 17, 298, 707]]\n",
            "6802682324.323456\n",
            "hello\n",
            "[[437, 266, 227, 386, 43, 856, 321, 440]]\n",
            "10969709896.979671\n",
            "hello\n",
            "[[945, 151, 735, 3, 73, 543, 29, 458]]\n",
            "22170213685.757595\n",
            "hello\n",
            "[[917, 4, 609, 357, 328, 480, 359, 899]]\n",
            "20123577548.399982\n",
            "hello\n",
            "[[270, 306, 419, 533, 60, 470, 376, 269]]\n",
            "14467064467.429253\n",
            "hello\n",
            "[[152, 715, 6, 136, 603, 594, 658, 896]]\n",
            "7728444611.838095\n",
            "hello\n",
            "[[869, 893, 104, 824, 387, 458, 559, 616]]\n",
            "42185669462.11322\n",
            "hello\n",
            "[[513, 361, 90, 383, 409, 173, 997, 794]]\n",
            "23896446435.573307\n",
            "hello\n",
            "[[72, 745, 181, 304, 247, 131, 246, 15]]\n",
            "3222967720.8104167\n",
            "hello\n",
            "[[324, 732, 224, 615, 564, 502, 795, 864]]\n",
            "13996863088.615139\n",
            "hello\n",
            "[[731, 265, 596, 922, 401, 395, 794, 18]]\n",
            "30504556717.06834\n",
            "hello\n",
            "[[75, 349, 967, 676, 569, 731, 517, 746]]\n",
            "3039596336.707155\n",
            "hello\n",
            "[[507, 404, 952, 911, 433, 685, 714, 681]]\n",
            "19912372205.377052\n",
            "hello\n",
            "[[218, 367, 794, 656, 236, 852, 86, 211]]\n",
            "13019063397.288595\n",
            "hello\n",
            "[[837, 28, 750, 369, 296, 638, 791, 448]]\n",
            "48659239389.511566\n",
            "hello\n",
            "[[584, 997, 148, 630, 411, 772, 539, 177]]\n",
            "33148916791.53511\n",
            "hello\n",
            "[[865, 825, 242, 721, 43, 407, 714, 118]]\n",
            "47940549882.405304\n",
            "hello\n",
            "[[860, 714, 755, 219, 172, 403, 932, 2]]\n",
            "46637621492.93767\n",
            "hello\n",
            "[[231, 329, 403, 71, 526, 622, 677, 785]]\n",
            "12290736415.156096\n",
            "hello\n",
            "[[319, 741, 831, 953, 175, 632, 588, 68]]\n",
            "16756452184.657661\n",
            "hello\n",
            "[[758, 620, 688, 864, 260, 374, 370, 973]]\n",
            "39041374214.0729\n",
            "hello\n",
            "[[200, 145, 487, 562, 620, 17, 430, 449]]\n",
            "10121735260.156668\n",
            "hello\n",
            "[[157, 540, 267, 442, 927, 226, 766, 772]]\n",
            "7915597151.264599\n",
            "hello\n",
            "[[614, 87, 81, 253, 103, 45, 999, 380]]\n",
            "30393311779.169044\n",
            "hello\n",
            "[[375, 852, 295, 567, 110, 96, 33, 955]]\n",
            "18242195510.06678\n",
            "hello\n",
            "[[705, 633, 130, 219, 30, 859, 804, 366]]\n",
            "33727890356.82024\n",
            "hello\n",
            "[[885, 36, 307, 411, 123, 84, 654, 325]]\n",
            "41757157320.77527\n",
            "hello\n",
            "[[175, 289, 664, 74, 299, 166, 489, 318]]\n",
            "8129066415.275012\n",
            "hello\n",
            "[[935, 72, 625, 959, 495, 81, 747, 408]]\n",
            "42803858469.03988\n",
            "hello\n",
            "[[268, 312, 648, 347, 996, 409, 449, 154]]\n",
            "12092172642.641033\n",
            "hello\n",
            "[[815, 785, 599, 12, 7, 66, 291, 629]]\n",
            "36236669221.31004\n",
            "hello\n",
            "[[839, 119, 326, 443, 250, 41, 381, 377]]\n",
            "36837290172.36312\n",
            "hello\n",
            "[[579, 222, 271, 300, 117, 496, 236, 36]]\n",
            "26181283740.59302\n",
            "hello\n",
            "[[514, 702, 886, 743, 751, 977, 838, 592]]\n",
            "22943067764.59733\n",
            "hello\n",
            "[[520, 597, 983, 211, 748, 701, 757, 398]]\n",
            "22909714948.478573\n",
            "hello\n",
            "[[552, 889, 354, 496, 379, 864, 128, 847]]\n",
            "24017519873.50164\n",
            "hello\n",
            "[[748, 529, 28, 574, 577, 948, 91, 983]]\n",
            "32145208486.160797\n",
            "hello\n",
            "[[115, 20, 880, 172, 274, 949, 297, 981]]\n",
            "4887707350.800542\n",
            "hello\n",
            "[[986, 259, 218, 204, 272, 883, 999, 946]]\n",
            "41382013223.21253\n",
            "hello\n",
            "[[253, 611, 91, 511, 776, 424, 423, 534]]\n",
            "10764301541.093124\n",
            "hello\n",
            "[[863, 66, 854, 54, 940, 175, 404, 203]]\n",
            "36299135406.1782\n",
            "hello\n",
            "[[420, 651, 211, 299, 907, 61, 768, 322]]\n",
            "17472941277.493355\n",
            "hello\n",
            "[[803, 376, 828, 235, 580, 262, 295, 495]]\n",
            "33054109556.609886\n",
            "hello\n",
            "[[799, 353, 121, 347, 990, 727, 984, 609]]\n",
            "33852772406.314762\n",
            "hello\n",
            "[[610, 30, 947, 979, 159, 108, 73, 402]]\n",
            "25655558304.867382\n"
          ],
          "name": "stdout"
        }
      ]
    },
    {
      "cell_type": "code",
      "metadata": {
        "id": "1FVL3m4qLxuT",
        "colab_type": "code",
        "outputId": "47b04070-4e83-452a-c7bb-974d4243d3df",
        "colab": {
          "base_uri": "https://localhost:8080/",
          "height": 204
        }
      },
      "source": [
        "output_df.head()"
      ],
      "execution_count": 71,
      "outputs": [
        {
          "output_type": "execute_result",
          "data": {
            "text/html": [
              "<div>\n",
              "<style scoped>\n",
              "    .dataframe tbody tr th:only-of-type {\n",
              "        vertical-align: middle;\n",
              "    }\n",
              "\n",
              "    .dataframe tbody tr th {\n",
              "        vertical-align: top;\n",
              "    }\n",
              "\n",
              "    .dataframe thead th {\n",
              "        text-align: right;\n",
              "    }\n",
              "</style>\n",
              "<table border=\"1\" class=\"dataframe\">\n",
              "  <thead>\n",
              "    <tr style=\"text-align: right;\">\n",
              "      <th></th>\n",
              "      <th>0</th>\n",
              "      <th>1</th>\n",
              "    </tr>\n",
              "  </thead>\n",
              "  <tbody>\n",
              "    <tr>\n",
              "      <th>0</th>\n",
              "      <td>2.002383e+10</td>\n",
              "      <td>0    [575, 337, 775, 372, 323, 601, 340, 440]\n",
              "...</td>\n",
              "    </tr>\n",
              "    <tr>\n",
              "      <th>1</th>\n",
              "      <td>8.084981e+09</td>\n",
              "      <td>0    [285, 888, 591, 18, 716, 989, 151, 910]\n",
              "d...</td>\n",
              "    </tr>\n",
              "    <tr>\n",
              "      <th>2</th>\n",
              "      <td>1.094599e+10</td>\n",
              "      <td>0    [333, 403, 819, 866, 4, 752, 66, 168]\n",
              "dty...</td>\n",
              "    </tr>\n",
              "    <tr>\n",
              "      <th>3</th>\n",
              "      <td>2.455350e+10</td>\n",
              "      <td>0    [862, 943, 888, 226, 372, 122, 715, 155]\n",
              "...</td>\n",
              "    </tr>\n",
              "    <tr>\n",
              "      <th>4</th>\n",
              "      <td>6.802682e+09</td>\n",
              "      <td>0    [250, 869, 7, 189, 218, 17, 298, 707]\n",
              "dty...</td>\n",
              "    </tr>\n",
              "  </tbody>\n",
              "</table>\n",
              "</div>"
            ],
            "text/plain": [
              "              0                                                  1\n",
              "0  2.002383e+10  0    [575, 337, 775, 372, 323, 601, 340, 440]\n",
              "...\n",
              "1  8.084981e+09  0    [285, 888, 591, 18, 716, 989, 151, 910]\n",
              "d...\n",
              "2  1.094599e+10  0    [333, 403, 819, 866, 4, 752, 66, 168]\n",
              "dty...\n",
              "3  2.455350e+10  0    [862, 943, 888, 226, 372, 122, 715, 155]\n",
              "...\n",
              "4  6.802682e+09  0    [250, 869, 7, 189, 218, 17, 298, 707]\n",
              "dty..."
            ]
          },
          "metadata": {
            "tags": []
          },
          "execution_count": 71
        }
      ]
    },
    {
      "cell_type": "code",
      "metadata": {
        "id": "TWVAeekfeFnH",
        "colab_type": "code",
        "colab": {
          "base_uri": "https://localhost:8080/",
          "height": 204
        },
        "outputId": "38345100-5d40-4ef6-a886-91bab81b3d67"
      },
      "source": [
        "# Rename columns\n",
        "output_df.columns = ['RMSE', 'Coefficients']\n",
        "output_df.head()\n"
      ],
      "execution_count": 80,
      "outputs": [
        {
          "output_type": "execute_result",
          "data": {
            "text/html": [
              "<div>\n",
              "<style scoped>\n",
              "    .dataframe tbody tr th:only-of-type {\n",
              "        vertical-align: middle;\n",
              "    }\n",
              "\n",
              "    .dataframe tbody tr th {\n",
              "        vertical-align: top;\n",
              "    }\n",
              "\n",
              "    .dataframe thead th {\n",
              "        text-align: right;\n",
              "    }\n",
              "</style>\n",
              "<table border=\"1\" class=\"dataframe\">\n",
              "  <thead>\n",
              "    <tr style=\"text-align: right;\">\n",
              "      <th></th>\n",
              "      <th>RMSE</th>\n",
              "      <th>Coefficients</th>\n",
              "    </tr>\n",
              "  </thead>\n",
              "  <tbody>\n",
              "    <tr>\n",
              "      <th>0</th>\n",
              "      <td>2.002383e+10</td>\n",
              "      <td>0    [575, 337, 775, 372, 323, 601, 340, 440]\n",
              "...</td>\n",
              "    </tr>\n",
              "    <tr>\n",
              "      <th>1</th>\n",
              "      <td>8.084981e+09</td>\n",
              "      <td>0    [285, 888, 591, 18, 716, 989, 151, 910]\n",
              "d...</td>\n",
              "    </tr>\n",
              "    <tr>\n",
              "      <th>2</th>\n",
              "      <td>1.094599e+10</td>\n",
              "      <td>0    [333, 403, 819, 866, 4, 752, 66, 168]\n",
              "dty...</td>\n",
              "    </tr>\n",
              "    <tr>\n",
              "      <th>3</th>\n",
              "      <td>2.455350e+10</td>\n",
              "      <td>0    [862, 943, 888, 226, 372, 122, 715, 155]\n",
              "...</td>\n",
              "    </tr>\n",
              "    <tr>\n",
              "      <th>4</th>\n",
              "      <td>6.802682e+09</td>\n",
              "      <td>0    [250, 869, 7, 189, 218, 17, 298, 707]\n",
              "dty...</td>\n",
              "    </tr>\n",
              "  </tbody>\n",
              "</table>\n",
              "</div>"
            ],
            "text/plain": [
              "           RMSE                                       Coefficients\n",
              "0  2.002383e+10  0    [575, 337, 775, 372, 323, 601, 340, 440]\n",
              "...\n",
              "1  8.084981e+09  0    [285, 888, 591, 18, 716, 989, 151, 910]\n",
              "d...\n",
              "2  1.094599e+10  0    [333, 403, 819, 866, 4, 752, 66, 168]\n",
              "dty...\n",
              "3  2.455350e+10  0    [862, 943, 888, 226, 372, 122, 715, 155]\n",
              "...\n",
              "4  6.802682e+09  0    [250, 869, 7, 189, 218, 17, 298, 707]\n",
              "dty..."
            ]
          },
          "metadata": {
            "tags": []
          },
          "execution_count": 80
        }
      ]
    },
    {
      "cell_type": "code",
      "metadata": {
        "id": "SPwQqogeBXiX",
        "colab_type": "code",
        "outputId": "616c4e10-049e-4660-e571-61bbe5445053",
        "colab": {
          "base_uri": "https://localhost:8080/",
          "height": 102
        }
      },
      "source": [
        "# Find coefficients that give minimum RMSE.\n",
        "# Sort the dataframe in ascending order and pick the first row\n",
        "\n",
        "output_df = output_df.sort_values(by=['RMSE'])\n",
        "firstrow = output_df.head(1)\n",
        "\n",
        "# Print output values\n",
        "print(\"Minimum RMSE \" + str(firstrow['RMSE']))\n",
        "print(\"Coefficients for minimum RMSE \" + str(firstrow['Coefficients']))"
      ],
      "execution_count": 92,
      "outputs": [
        {
          "output_type": "stream",
          "text": [
            "Minimum RMSE 15    3.039596e+09\n",
            "Name: RMSE, dtype: float64\n",
            "Coefficients for minimum RMSE 15    0    [75, 349, 967, 676, 569, 731, 517, 746]\n",
            "d...\n",
            "Name: Coefficients, dtype: object\n"
          ],
          "name": "stdout"
        }
      ]
    },
    {
      "cell_type": "code",
      "metadata": {
        "id": "fzNdVScRckAn",
        "colab_type": "code",
        "colab": {}
      },
      "source": [
        ""
      ],
      "execution_count": 0,
      "outputs": []
    },
    {
      "cell_type": "code",
      "metadata": {
        "id": "WEOyCbcNiC3_",
        "colab_type": "code",
        "colab": {}
      },
      "source": [
        ""
      ],
      "execution_count": 0,
      "outputs": []
    },
    {
      "cell_type": "code",
      "metadata": {
        "id": "55d0PHmPiC7P",
        "colab_type": "code",
        "colab": {}
      },
      "source": [
        ""
      ],
      "execution_count": 0,
      "outputs": []
    },
    {
      "cell_type": "code",
      "metadata": {
        "id": "5pZHxTyiiC-n",
        "colab_type": "code",
        "colab": {}
      },
      "source": [
        ""
      ],
      "execution_count": 0,
      "outputs": []
    },
    {
      "cell_type": "code",
      "metadata": {
        "id": "kdxpybhLckKy",
        "colab_type": "code",
        "colab": {}
      },
      "source": [
        ""
      ],
      "execution_count": 0,
      "outputs": []
    },
    {
      "cell_type": "code",
      "metadata": {
        "id": "IHEq4KYYckO1",
        "colab_type": "code",
        "colab": {}
      },
      "source": [
        ""
      ],
      "execution_count": 0,
      "outputs": []
    },
    {
      "cell_type": "code",
      "metadata": {
        "id": "PUNeWNH0-VxV",
        "colab_type": "code",
        "colab": {}
      },
      "source": [
        "# Tried Linear Regression. Pls ignore.\n",
        "from sklearn.preprocessing import StandardScaler\n",
        "sc = StandardScaler()"
      ],
      "execution_count": 0,
      "outputs": []
    },
    {
      "cell_type": "code",
      "metadata": {
        "id": "Dk4eYgTV9orI",
        "colab_type": "code",
        "colab": {}
      },
      "source": [
        "df = pd.DataFrame(sc.fit_transform(df), columns=list(df))"
      ],
      "execution_count": 0,
      "outputs": []
    },
    {
      "cell_type": "code",
      "metadata": {
        "id": "AQ2V7hHL36fe",
        "colab_type": "code",
        "colab": {}
      },
      "source": [
        "x = df.drop(['life'], axis = 1)\n",
        "y = df['life']\n"
      ],
      "execution_count": 0,
      "outputs": []
    },
    {
      "cell_type": "code",
      "metadata": {
        "id": "L_-Lo6WI36i0",
        "colab_type": "code",
        "outputId": "d7370a7b-1784-4203-c4e4-db41720b4ee8",
        "colab": {
          "base_uri": "https://localhost:8080/",
          "height": 297
        }
      },
      "source": [
        "x.describe()"
      ],
      "execution_count": 0,
      "outputs": [
        {
          "output_type": "execute_result",
          "data": {
            "text/html": [
              "<div>\n",
              "<style scoped>\n",
              "    .dataframe tbody tr th:only-of-type {\n",
              "        vertical-align: middle;\n",
              "    }\n",
              "\n",
              "    .dataframe tbody tr th {\n",
              "        vertical-align: top;\n",
              "    }\n",
              "\n",
              "    .dataframe thead th {\n",
              "        text-align: right;\n",
              "    }\n",
              "</style>\n",
              "<table border=\"1\" class=\"dataframe\">\n",
              "  <thead>\n",
              "    <tr style=\"text-align: right;\">\n",
              "      <th></th>\n",
              "      <th>population</th>\n",
              "      <th>fertility</th>\n",
              "      <th>HIV</th>\n",
              "      <th>CO2</th>\n",
              "      <th>BMI_male</th>\n",
              "      <th>GDP</th>\n",
              "      <th>BMI_female</th>\n",
              "      <th>child_mortality</th>\n",
              "    </tr>\n",
              "  </thead>\n",
              "  <tbody>\n",
              "    <tr>\n",
              "      <th>count</th>\n",
              "      <td>1.390000e+02</td>\n",
              "      <td>1.390000e+02</td>\n",
              "      <td>1.390000e+02</td>\n",
              "      <td>1.390000e+02</td>\n",
              "      <td>1.390000e+02</td>\n",
              "      <td>1.390000e+02</td>\n",
              "      <td>1.390000e+02</td>\n",
              "      <td>1.390000e+02</td>\n",
              "    </tr>\n",
              "    <tr>\n",
              "      <th>mean</th>\n",
              "      <td>1.078274e-17</td>\n",
              "      <td>-1.829072e-16</td>\n",
              "      <td>9.584659e-18</td>\n",
              "      <td>-7.507983e-17</td>\n",
              "      <td>-1.479232e-15</td>\n",
              "      <td>-4.872202e-17</td>\n",
              "      <td>-1.343450e-15</td>\n",
              "      <td>-6.389773e-17</td>\n",
              "    </tr>\n",
              "    <tr>\n",
              "      <th>std</th>\n",
              "      <td>1.003617e+00</td>\n",
              "      <td>1.003617e+00</td>\n",
              "      <td>1.003617e+00</td>\n",
              "      <td>1.003617e+00</td>\n",
              "      <td>1.003617e+00</td>\n",
              "      <td>1.003617e+00</td>\n",
              "      <td>1.003617e+00</td>\n",
              "      <td>1.003617e+00</td>\n",
              "    </tr>\n",
              "    <tr>\n",
              "      <th>min</th>\n",
              "      <td>-3.227940e-01</td>\n",
              "      <td>-1.071806e+00</td>\n",
              "      <td>-4.223937e-01</td>\n",
              "      <td>-7.126844e-01</td>\n",
              "      <td>-1.919516e+00</td>\n",
              "      <td>-8.386829e-01</td>\n",
              "      <td>-2.093057e+00</td>\n",
              "      <td>-9.305799e-01</td>\n",
              "    </tr>\n",
              "    <tr>\n",
              "      <th>25%</th>\n",
              "      <td>-2.909433e-01</td>\n",
              "      <td>-7.425183e-01</td>\n",
              "      <td>-4.132884e-01</td>\n",
              "      <td>-6.346199e-01</td>\n",
              "      <td>-9.879679e-01</td>\n",
              "      <td>-7.179290e-01</td>\n",
              "      <td>-7.786819e-01</td>\n",
              "      <td>-8.120546e-01</td>\n",
              "    </tr>\n",
              "    <tr>\n",
              "      <th>50%</th>\n",
              "      <td>-2.363934e-01</td>\n",
              "      <td>-3.697394e-01</td>\n",
              "      <td>-3.449993e-01</td>\n",
              "      <td>-3.580152e-01</td>\n",
              "      <td>2.425431e-01</td>\n",
              "      <td>-3.501283e-01</td>\n",
              "      <td>-4.091545e-02</td>\n",
              "      <td>-4.630635e-01</td>\n",
              "    </tr>\n",
              "    <tr>\n",
              "      <th>75%</th>\n",
              "      <td>-6.946675e-02</td>\n",
              "      <td>6.771479e-01</td>\n",
              "      <td>-1.401319e-01</td>\n",
              "      <td>3.409165e-01</td>\n",
              "      <td>8.515106e-01</td>\n",
              "      <td>3.469373e-01</td>\n",
              "      <td>8.020827e-01</td>\n",
              "      <td>6.387828e-01</td>\n",
              "    </tr>\n",
              "    <tr>\n",
              "      <th>max</th>\n",
              "      <td>1.064514e+01</td>\n",
              "      <td>2.848585e+00</td>\n",
              "      <td>5.459577e+00</td>\n",
              "      <td>7.083555e+00</td>\n",
              "      <td>1.741580e+00</td>\n",
              "      <td>5.718295e+00</td>\n",
              "      <td>1.972693e+00</td>\n",
              "      <td>3.224390e+00</td>\n",
              "    </tr>\n",
              "  </tbody>\n",
              "</table>\n",
              "</div>"
            ],
            "text/plain": [
              "         population     fertility  ...    BMI_female  child_mortality\n",
              "count  1.390000e+02  1.390000e+02  ...  1.390000e+02     1.390000e+02\n",
              "mean   1.078274e-17 -1.829072e-16  ... -1.343450e-15    -6.389773e-17\n",
              "std    1.003617e+00  1.003617e+00  ...  1.003617e+00     1.003617e+00\n",
              "min   -3.227940e-01 -1.071806e+00  ... -2.093057e+00    -9.305799e-01\n",
              "25%   -2.909433e-01 -7.425183e-01  ... -7.786819e-01    -8.120546e-01\n",
              "50%   -2.363934e-01 -3.697394e-01  ... -4.091545e-02    -4.630635e-01\n",
              "75%   -6.946675e-02  6.771479e-01  ...  8.020827e-01     6.387828e-01\n",
              "max    1.064514e+01  2.848585e+00  ...  1.972693e+00     3.224390e+00\n",
              "\n",
              "[8 rows x 8 columns]"
            ]
          },
          "metadata": {
            "tags": []
          },
          "execution_count": 34
        }
      ]
    },
    {
      "cell_type": "code",
      "metadata": {
        "id": "VxZcFQU236mO",
        "colab_type": "code",
        "outputId": "8eb94c6e-510c-4440-f099-6a7b3090c726",
        "colab": {
          "base_uri": "https://localhost:8080/",
          "height": 297
        }
      },
      "source": [
        "x.corr()"
      ],
      "execution_count": 0,
      "outputs": [
        {
          "output_type": "execute_result",
          "data": {
            "text/html": [
              "<div>\n",
              "<style scoped>\n",
              "    .dataframe tbody tr th:only-of-type {\n",
              "        vertical-align: middle;\n",
              "    }\n",
              "\n",
              "    .dataframe tbody tr th {\n",
              "        vertical-align: top;\n",
              "    }\n",
              "\n",
              "    .dataframe thead th {\n",
              "        text-align: right;\n",
              "    }\n",
              "</style>\n",
              "<table border=\"1\" class=\"dataframe\">\n",
              "  <thead>\n",
              "    <tr style=\"text-align: right;\">\n",
              "      <th></th>\n",
              "      <th>population</th>\n",
              "      <th>fertility</th>\n",
              "      <th>HIV</th>\n",
              "      <th>CO2</th>\n",
              "      <th>BMI_male</th>\n",
              "      <th>GDP</th>\n",
              "      <th>BMI_female</th>\n",
              "      <th>child_mortality</th>\n",
              "    </tr>\n",
              "  </thead>\n",
              "  <tbody>\n",
              "    <tr>\n",
              "      <th>population</th>\n",
              "      <td>1.000000</td>\n",
              "      <td>-0.061345</td>\n",
              "      <td>-0.065821</td>\n",
              "      <td>-0.010147</td>\n",
              "      <td>-0.134905</td>\n",
              "      <td>-0.045687</td>\n",
              "      <td>-0.135149</td>\n",
              "      <td>0.008058</td>\n",
              "    </tr>\n",
              "    <tr>\n",
              "      <th>fertility</th>\n",
              "      <td>-0.061345</td>\n",
              "      <td>1.000000</td>\n",
              "      <td>0.292695</td>\n",
              "      <td>-0.439747</td>\n",
              "      <td>-0.715380</td>\n",
              "      <td>-0.502615</td>\n",
              "      <td>0.527314</td>\n",
              "      <td>0.901704</td>\n",
              "    </tr>\n",
              "    <tr>\n",
              "      <th>HIV</th>\n",
              "      <td>-0.065821</td>\n",
              "      <td>0.292695</td>\n",
              "      <td>1.000000</td>\n",
              "      <td>-0.165889</td>\n",
              "      <td>-0.308700</td>\n",
              "      <td>-0.208410</td>\n",
              "      <td>0.396680</td>\n",
              "      <td>0.394913</td>\n",
              "    </tr>\n",
              "    <tr>\n",
              "      <th>CO2</th>\n",
              "      <td>-0.010147</td>\n",
              "      <td>-0.439747</td>\n",
              "      <td>-0.165889</td>\n",
              "      <td>1.000000</td>\n",
              "      <td>0.581031</td>\n",
              "      <td>0.823099</td>\n",
              "      <td>-0.280813</td>\n",
              "      <td>-0.458186</td>\n",
              "    </tr>\n",
              "    <tr>\n",
              "      <th>BMI_male</th>\n",
              "      <td>-0.134905</td>\n",
              "      <td>-0.715380</td>\n",
              "      <td>-0.308700</td>\n",
              "      <td>0.581031</td>\n",
              "      <td>1.000000</td>\n",
              "      <td>0.625126</td>\n",
              "      <td>-0.447049</td>\n",
              "      <td>-0.749691</td>\n",
              "    </tr>\n",
              "    <tr>\n",
              "      <th>GDP</th>\n",
              "      <td>-0.045687</td>\n",
              "      <td>-0.502615</td>\n",
              "      <td>-0.208410</td>\n",
              "      <td>0.823099</td>\n",
              "      <td>0.625126</td>\n",
              "      <td>1.000000</td>\n",
              "      <td>-0.400740</td>\n",
              "      <td>-0.543874</td>\n",
              "    </tr>\n",
              "    <tr>\n",
              "      <th>BMI_female</th>\n",
              "      <td>-0.135149</td>\n",
              "      <td>0.527314</td>\n",
              "      <td>0.396680</td>\n",
              "      <td>-0.280813</td>\n",
              "      <td>-0.447049</td>\n",
              "      <td>-0.400740</td>\n",
              "      <td>1.000000</td>\n",
              "      <td>0.582053</td>\n",
              "    </tr>\n",
              "    <tr>\n",
              "      <th>child_mortality</th>\n",
              "      <td>0.008058</td>\n",
              "      <td>0.901704</td>\n",
              "      <td>0.394913</td>\n",
              "      <td>-0.458186</td>\n",
              "      <td>-0.749691</td>\n",
              "      <td>-0.543874</td>\n",
              "      <td>0.582053</td>\n",
              "      <td>1.000000</td>\n",
              "    </tr>\n",
              "  </tbody>\n",
              "</table>\n",
              "</div>"
            ],
            "text/plain": [
              "                 population  fertility  ...  BMI_female  child_mortality\n",
              "population         1.000000  -0.061345  ...   -0.135149         0.008058\n",
              "fertility         -0.061345   1.000000  ...    0.527314         0.901704\n",
              "HIV               -0.065821   0.292695  ...    0.396680         0.394913\n",
              "CO2               -0.010147  -0.439747  ...   -0.280813        -0.458186\n",
              "BMI_male          -0.134905  -0.715380  ...   -0.447049        -0.749691\n",
              "GDP               -0.045687  -0.502615  ...   -0.400740        -0.543874\n",
              "BMI_female        -0.135149   0.527314  ...    1.000000         0.582053\n",
              "child_mortality    0.008058   0.901704  ...    0.582053         1.000000\n",
              "\n",
              "[8 rows x 8 columns]"
            ]
          },
          "metadata": {
            "tags": []
          },
          "execution_count": 13
        }
      ]
    },
    {
      "cell_type": "code",
      "metadata": {
        "id": "c3hbkuk54Z9k",
        "colab_type": "code",
        "colab": {}
      },
      "source": [
        "from sklearn.linear_model import LinearRegression\n",
        "lr = LinearRegression()"
      ],
      "execution_count": 0,
      "outputs": []
    },
    {
      "cell_type": "code",
      "metadata": {
        "id": "YuoDJo244aA1",
        "colab_type": "code",
        "colab": {}
      },
      "source": [
        "model = lr.fit(x,y)"
      ],
      "execution_count": 0,
      "outputs": []
    },
    {
      "cell_type": "code",
      "metadata": {
        "id": "NwRJEMwL36pC",
        "colab_type": "code",
        "outputId": "e24794bc-f7a3-45d5-e6b9-844517047b7e",
        "colab": {
          "base_uri": "https://localhost:8080/",
          "height": 34
        }
      },
      "source": [
        "model"
      ],
      "execution_count": 0,
      "outputs": [
        {
          "output_type": "execute_result",
          "data": {
            "text/plain": [
              "LinearRegression(copy_X=True, fit_intercept=True, n_jobs=None, normalize=False)"
            ]
          },
          "metadata": {
            "tags": []
          },
          "execution_count": 37
        }
      ]
    },
    {
      "cell_type": "code",
      "metadata": {
        "id": "VL5wpSsV5_sN",
        "colab_type": "code",
        "colab": {}
      },
      "source": [
        "coef = model.coef_"
      ],
      "execution_count": 0,
      "outputs": []
    },
    {
      "cell_type": "code",
      "metadata": {
        "id": "ndBI6qZz6y4j",
        "colab_type": "code",
        "outputId": "fe67ae06-35e8-4047-c458-ffc90ac115e8",
        "colab": {
          "base_uri": "https://localhost:8080/",
          "height": 34
        }
      },
      "source": [
        "cons = model.intercept_\n",
        "cons"
      ],
      "execution_count": 0,
      "outputs": [
        {
          "output_type": "execute_result",
          "data": {
            "text/plain": [
              "6.98451077409582e-16"
            ]
          },
          "metadata": {
            "tags": []
          },
          "execution_count": 39
        }
      ]
    },
    {
      "cell_type": "code",
      "metadata": {
        "id": "e0ACMrOg6MrS",
        "colab_type": "code",
        "outputId": "7519ed3d-ee14-414d-f34b-e7567a585a92",
        "colab": {
          "base_uri": "https://localhost:8080/",
          "height": 153
        }
      },
      "source": [
        "features = list(x)\n",
        "features"
      ],
      "execution_count": 0,
      "outputs": [
        {
          "output_type": "execute_result",
          "data": {
            "text/plain": [
              "['population',\n",
              " 'fertility',\n",
              " 'HIV',\n",
              " 'CO2',\n",
              " 'BMI_male',\n",
              " 'GDP',\n",
              " 'BMI_female',\n",
              " 'child_mortality']"
            ]
          },
          "metadata": {
            "tags": []
          },
          "execution_count": 40
        }
      ]
    },
    {
      "cell_type": "code",
      "metadata": {
        "id": "ALrrqsKf6CDl",
        "colab_type": "code",
        "outputId": "5f83c8f0-6a2a-49ea-d319-2b510e623c67",
        "colab": {
          "base_uri": "https://localhost:8080/",
          "height": 297
        }
      },
      "source": [
        "outdf = pd.DataFrame(list(zip(features,coef)))\n",
        "outdf"
      ],
      "execution_count": 0,
      "outputs": [
        {
          "output_type": "execute_result",
          "data": {
            "text/html": [
              "<div>\n",
              "<style scoped>\n",
              "    .dataframe tbody tr th:only-of-type {\n",
              "        vertical-align: middle;\n",
              "    }\n",
              "\n",
              "    .dataframe tbody tr th {\n",
              "        vertical-align: top;\n",
              "    }\n",
              "\n",
              "    .dataframe thead th {\n",
              "        text-align: right;\n",
              "    }\n",
              "</style>\n",
              "<table border=\"1\" class=\"dataframe\">\n",
              "  <thead>\n",
              "    <tr style=\"text-align: right;\">\n",
              "      <th></th>\n",
              "      <th>0</th>\n",
              "      <th>1</th>\n",
              "    </tr>\n",
              "  </thead>\n",
              "  <tbody>\n",
              "    <tr>\n",
              "      <th>0</th>\n",
              "      <td>population</td>\n",
              "      <td>-0.018979</td>\n",
              "    </tr>\n",
              "    <tr>\n",
              "      <th>1</th>\n",
              "      <td>fertility</td>\n",
              "      <td>-0.080660</td>\n",
              "    </tr>\n",
              "    <tr>\n",
              "      <th>2</th>\n",
              "      <td>HIV</td>\n",
              "      <td>-0.289553</td>\n",
              "    </tr>\n",
              "    <tr>\n",
              "      <th>3</th>\n",
              "      <td>CO2</td>\n",
              "      <td>-0.140249</td>\n",
              "    </tr>\n",
              "    <tr>\n",
              "      <th>4</th>\n",
              "      <td>BMI_male</td>\n",
              "      <td>0.080512</td>\n",
              "    </tr>\n",
              "    <tr>\n",
              "      <th>5</th>\n",
              "      <td>GDP</td>\n",
              "      <td>0.293106</td>\n",
              "    </tr>\n",
              "    <tr>\n",
              "      <th>6</th>\n",
              "      <td>BMI_female</td>\n",
              "      <td>-0.121807</td>\n",
              "    </tr>\n",
              "    <tr>\n",
              "      <th>7</th>\n",
              "      <td>child_mortality</td>\n",
              "      <td>-0.460463</td>\n",
              "    </tr>\n",
              "  </tbody>\n",
              "</table>\n",
              "</div>"
            ],
            "text/plain": [
              "                 0         1\n",
              "0       population -0.018979\n",
              "1        fertility -0.080660\n",
              "2              HIV -0.289553\n",
              "3              CO2 -0.140249\n",
              "4         BMI_male  0.080512\n",
              "5              GDP  0.293106\n",
              "6       BMI_female -0.121807\n",
              "7  child_mortality -0.460463"
            ]
          },
          "metadata": {
            "tags": []
          },
          "execution_count": 41
        }
      ]
    },
    {
      "cell_type": "code",
      "metadata": {
        "id": "ER1ib2A_6Joy",
        "colab_type": "code",
        "colab": {}
      },
      "source": [
        "y = "
      ],
      "execution_count": 0,
      "outputs": []
    },
    {
      "cell_type": "code",
      "metadata": {
        "id": "fb3x6sN-6JsC",
        "colab_type": "code",
        "colab": {}
      },
      "source": [
        ""
      ],
      "execution_count": 0,
      "outputs": []
    },
    {
      "cell_type": "code",
      "metadata": {
        "id": "vbLe7CJF6JvY",
        "colab_type": "code",
        "colab": {}
      },
      "source": [
        ""
      ],
      "execution_count": 0,
      "outputs": []
    }
  ]
}