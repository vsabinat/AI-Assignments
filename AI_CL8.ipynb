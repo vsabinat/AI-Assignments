{
 "cells": [
  {
   "cell_type": "code",
   "execution_count": 1,
   "metadata": {},
   "outputs": [],
   "source": [
    "import numpy as np\n",
    "import pandas as pd\n",
    "import math\n",
    "import statistics as st"
   ]
  },
  {
   "cell_type": "code",
   "execution_count": 2,
   "metadata": {},
   "outputs": [],
   "source": [
    "df = pd.read_csv(\"C:\\\\Users\\sabta\\Documents\\MTech\\AI\\Stock.csv\")\n",
    "\n",
    "df['Returns1'] = 0\n",
    "df['Returns2'] = 0\n",
    "df['Returns3'] = 0\n",
    "df['Returns2_Pred'] = 0\n",
    "df['Forecast_Err'] = 0\n",
    "\n",
    "df['Returns1'] = df['Returns1'].astype(float)\n",
    "df['Returns2'] = df['Returns2'].astype(float)\n",
    "df['Returns3'] = df['Returns3'].astype(float)"
   ]
  },
  {
   "cell_type": "code",
   "execution_count": 3,
   "metadata": {},
   "outputs": [],
   "source": [
    "prev = 0\n",
    "for x in range(0, len(df)):\n",
    "    if x == 0:\n",
    "        df['Returns1'].shift(1)\n",
    "        df['Returns2'].shift(1)\n",
    "        df['Returns3'].shift(1)\n",
    "        prev = df['Close'][x]\n",
    "    else:\n",
    "        curr = df['Close'][x]\n",
    "        ret1 = curr / prev\n",
    "        ret2 = (curr - prev) / prev\n",
    "        ret3 = np.log(curr / prev)\n",
    "\n",
    "        df.loc[x, ('Returns1', 'Returns2', 'Returns3')] = ret1, ret2, ret3\n",
    "        prev = df['Close'][x]\n",
    "\n",
    "\n",
    "mean1 = st.mean(df['Returns1'])\n",
    "mean2 = st.mean(df['Returns2'])\n",
    "mean3 = st.mean(df['Returns3'])\n",
    "\n",
    "sd1 = st.stdev(df['Returns1'])\n",
    "sd2 = st.stdev(df['Returns2'])\n",
    "sd3 = st.stdev(df['Returns3'])"
   ]
  },
  {
   "cell_type": "code",
   "execution_count": 4,
   "metadata": {},
   "outputs": [
    {
     "name": "stdout",
     "output_type": "stream",
     "text": [
      "237    2505.25\n",
      "Name: Close, dtype: float64\n"
     ]
    }
   ],
   "source": [
    "# print(df.head())\n",
    "\n",
    "# create the Test dataset\n",
    "test = df.iloc[-5:,]\n",
    "\n",
    "# Create the Train dataset\n",
    "train = df.iloc[0:-5,]\n",
    "\n",
    "# Monte-Carlo Simulation for Test Dataset\n",
    "s0 = train.Close.tail(1)\n",
    "print(s0)"
   ]
  },
  {
   "cell_type": "code",
   "execution_count": 5,
   "metadata": {},
   "outputs": [],
   "source": [
    "# Loop count\n",
    "n = 1000\n",
    "# Create empty arrays for each of the Return values\n",
    "s1 = np.zeros(n, dtype=float)\n",
    "s2 = np.zeros(n, dtype=float)\n",
    "s3 = np.zeros(n, dtype=float)\n",
    "s4 = np.zeros(n, dtype=float)\n",
    "s5 = np.zeros(n, dtype=float)\n",
    "\n",
    "for i in range(0, n):\n",
    "    s1temp = s0 * (math.exp(mean2 - ((sd2 ** 2) / 2))) + sd2 * np.random.normal()\n",
    "    s2temp = s1temp * (math.exp(mean2 - ((sd2 ** 2) / 2))) + sd2 * np.random.normal()\n",
    "    s3temp = s2temp * (math.exp(mean2 - ((sd2 ** 2) / 2))) + sd2 * np.random.normal()\n",
    "    s4temp = s3temp * (math.exp(mean2 - ((sd2 ** 2) / 2))) + sd2 * np.random.normal()\n",
    "    s5temp = s4temp * (math.exp(mean2 - ((sd2 ** 2) / 2))) + sd2 * np.random.normal()\n",
    "\n",
    "    s1[i] = s1temp\n",
    "    s2[i] = s2temp\n",
    "    s3[i] = s3temp\n",
    "    s4[i] = s4temp\n",
    "    s5[i] = s5temp"
   ]
  },
  {
   "cell_type": "code",
   "execution_count": 7,
   "metadata": {},
   "outputs": [
    {
     "data": {
      "text/plain": [
       "2503.1223786741975"
      ]
     },
     "execution_count": 7,
     "metadata": {},
     "output_type": "execute_result"
    }
   ],
   "source": [
    "st.mean(s1)"
   ]
  },
  {
   "cell_type": "code",
   "execution_count": 8,
   "metadata": {},
   "outputs": [
    {
     "name": "stdout",
     "output_type": "stream",
     "text": [
      "2503.1223786741975\n",
      "2500.9966242379824\n",
      "2498.872123059451\n",
      "2496.750432779015\n",
      "2494.6297261832096\n",
      "2498.874256986771\n"
     ]
    }
   ],
   "source": [
    "pred_mean1 = st.mean(s1)\n",
    "pred_mean2 = st.mean(s2)\n",
    "pred_mean3 = st.mean(s3)\n",
    "pred_mean4 = st.mean(s4)\n",
    "pred_mean5 = st.mean(s5)\n",
    "pred_mean = (pred_mean1+pred_mean2+pred_mean3+pred_mean4+pred_mean5)/5\n",
    "df['Returns2_Pred'] = pred_mean\n",
    "\n",
    "print(pred_mean1)\n",
    "print(pred_mean2)\n",
    "print(pred_mean3)\n",
    "print(pred_mean4)\n",
    "print(pred_mean5)\n",
    "print(pred_mean)"
   ]
  },
  {
   "cell_type": "code",
   "execution_count": 9,
   "metadata": {},
   "outputs": [
    {
     "data": {
      "text/html": [
       "<div>\n",
       "<style scoped>\n",
       "    .dataframe tbody tr th:only-of-type {\n",
       "        vertical-align: middle;\n",
       "    }\n",
       "\n",
       "    .dataframe tbody tr th {\n",
       "        vertical-align: top;\n",
       "    }\n",
       "\n",
       "    .dataframe thead th {\n",
       "        text-align: right;\n",
       "    }\n",
       "</style>\n",
       "<table border=\"1\" class=\"dataframe\">\n",
       "  <thead>\n",
       "    <tr style=\"text-align: right;\">\n",
       "      <th></th>\n",
       "      <th>Date</th>\n",
       "      <th>Close</th>\n",
       "      <th>Returns1</th>\n",
       "      <th>Returns2</th>\n",
       "      <th>Returns3</th>\n",
       "      <th>Returns2_Pred</th>\n",
       "      <th>Forecast_Err</th>\n",
       "    </tr>\n",
       "  </thead>\n",
       "  <tbody>\n",
       "    <tr>\n",
       "      <th>0</th>\n",
       "      <td>16-08-2018</td>\n",
       "      <td>3282.649902</td>\n",
       "      <td>0.000000</td>\n",
       "      <td>0.000000</td>\n",
       "      <td>0.000000</td>\n",
       "      <td>2498.874257</td>\n",
       "      <td>0</td>\n",
       "    </tr>\n",
       "    <tr>\n",
       "      <th>1</th>\n",
       "      <td>17-08-2018</td>\n",
       "      <td>3242.300049</td>\n",
       "      <td>0.987708</td>\n",
       "      <td>-0.012292</td>\n",
       "      <td>-0.012368</td>\n",
       "      <td>2498.874257</td>\n",
       "      <td>0</td>\n",
       "    </tr>\n",
       "    <tr>\n",
       "      <th>2</th>\n",
       "      <td>20-08-2018</td>\n",
       "      <td>3304.000000</td>\n",
       "      <td>1.019030</td>\n",
       "      <td>0.019030</td>\n",
       "      <td>0.018851</td>\n",
       "      <td>2498.874257</td>\n",
       "      <td>0</td>\n",
       "    </tr>\n",
       "    <tr>\n",
       "      <th>3</th>\n",
       "      <td>21-08-2018</td>\n",
       "      <td>3316.750000</td>\n",
       "      <td>1.003859</td>\n",
       "      <td>0.003859</td>\n",
       "      <td>0.003852</td>\n",
       "      <td>2498.874257</td>\n",
       "      <td>0</td>\n",
       "    </tr>\n",
       "    <tr>\n",
       "      <th>4</th>\n",
       "      <td>23-08-2018</td>\n",
       "      <td>3284.750000</td>\n",
       "      <td>0.990352</td>\n",
       "      <td>-0.009648</td>\n",
       "      <td>-0.009695</td>\n",
       "      <td>2498.874257</td>\n",
       "      <td>0</td>\n",
       "    </tr>\n",
       "  </tbody>\n",
       "</table>\n",
       "</div>"
      ],
      "text/plain": [
       "         Date        Close  Returns1  Returns2  Returns3  Returns2_Pred  \\\n",
       "0  16-08-2018  3282.649902  0.000000  0.000000  0.000000    2498.874257   \n",
       "1  17-08-2018  3242.300049  0.987708 -0.012292 -0.012368    2498.874257   \n",
       "2  20-08-2018  3304.000000  1.019030  0.019030  0.018851    2498.874257   \n",
       "3  21-08-2018  3316.750000  1.003859  0.003859  0.003852    2498.874257   \n",
       "4  23-08-2018  3284.750000  0.990352 -0.009648 -0.009695    2498.874257   \n",
       "\n",
       "   Forecast_Err  \n",
       "0             0  \n",
       "1             0  \n",
       "2             0  \n",
       "3             0  \n",
       "4             0  "
      ]
     },
     "execution_count": 9,
     "metadata": {},
     "output_type": "execute_result"
    }
   ],
   "source": [
    "df.head()"
   ]
  },
  {
   "cell_type": "code",
   "execution_count": 11,
   "metadata": {},
   "outputs": [
    {
     "name": "stdout",
     "output_type": "stream",
     "text": [
      "0.12070316818443033\n",
      "Forecasting Accuracy is :87.92968318155697\n"
     ]
    }
   ],
   "source": [
    "df['Forecast_Err'] = (df['Close']-df['Returns2_Pred'])/df['Returns2_Pred']\n",
    "fore_err1 = st.mean(df['Forecast_Err'])\n",
    "print(fore_err1)\n",
    "print(\"Forecasting Accuracy is :\"+str((1-fore_err1)*100))"
   ]
  },
  {
   "cell_type": "code",
   "execution_count": 9,
   "metadata": {},
   "outputs": [
    {
     "data": {
      "text/html": [
       "<div>\n",
       "<style scoped>\n",
       "    .dataframe tbody tr th:only-of-type {\n",
       "        vertical-align: middle;\n",
       "    }\n",
       "\n",
       "    .dataframe tbody tr th {\n",
       "        vertical-align: top;\n",
       "    }\n",
       "\n",
       "    .dataframe thead th {\n",
       "        text-align: right;\n",
       "    }\n",
       "</style>\n",
       "<table border=\"1\" class=\"dataframe\">\n",
       "  <thead>\n",
       "    <tr style=\"text-align: right;\">\n",
       "      <th></th>\n",
       "      <th>Date</th>\n",
       "      <th>Close</th>\n",
       "      <th>Returns1</th>\n",
       "      <th>Returns2</th>\n",
       "      <th>Returns3</th>\n",
       "      <th>Returns2_Pred</th>\n",
       "      <th>Forecast_Acc</th>\n",
       "    </tr>\n",
       "  </thead>\n",
       "  <tbody>\n",
       "    <tr>\n",
       "      <th>0</th>\n",
       "      <td>16-08-2018</td>\n",
       "      <td>3282.649902</td>\n",
       "      <td>0.000000</td>\n",
       "      <td>0.000000</td>\n",
       "      <td>0.000000</td>\n",
       "      <td>2498.873956</td>\n",
       "      <td>0.313652</td>\n",
       "    </tr>\n",
       "    <tr>\n",
       "      <th>1</th>\n",
       "      <td>17-08-2018</td>\n",
       "      <td>3242.300049</td>\n",
       "      <td>0.987708</td>\n",
       "      <td>-0.012292</td>\n",
       "      <td>-0.012368</td>\n",
       "      <td>2498.873956</td>\n",
       "      <td>0.297504</td>\n",
       "    </tr>\n",
       "    <tr>\n",
       "      <th>2</th>\n",
       "      <td>20-08-2018</td>\n",
       "      <td>3304.000000</td>\n",
       "      <td>1.019030</td>\n",
       "      <td>0.019030</td>\n",
       "      <td>0.018851</td>\n",
       "      <td>2498.873956</td>\n",
       "      <td>0.322196</td>\n",
       "    </tr>\n",
       "    <tr>\n",
       "      <th>3</th>\n",
       "      <td>21-08-2018</td>\n",
       "      <td>3316.750000</td>\n",
       "      <td>1.003859</td>\n",
       "      <td>0.003859</td>\n",
       "      <td>0.003852</td>\n",
       "      <td>2498.873956</td>\n",
       "      <td>0.327298</td>\n",
       "    </tr>\n",
       "    <tr>\n",
       "      <th>4</th>\n",
       "      <td>23-08-2018</td>\n",
       "      <td>3284.750000</td>\n",
       "      <td>0.990352</td>\n",
       "      <td>-0.009648</td>\n",
       "      <td>-0.009695</td>\n",
       "      <td>2498.873956</td>\n",
       "      <td>0.314492</td>\n",
       "    </tr>\n",
       "  </tbody>\n",
       "</table>\n",
       "</div>"
      ],
      "text/plain": [
       "         Date        Close  Returns1  Returns2  Returns3  Returns2_Pred  \\\n",
       "0  16-08-2018  3282.649902  0.000000  0.000000  0.000000    2498.873956   \n",
       "1  17-08-2018  3242.300049  0.987708 -0.012292 -0.012368    2498.873956   \n",
       "2  20-08-2018  3304.000000  1.019030  0.019030  0.018851    2498.873956   \n",
       "3  21-08-2018  3316.750000  1.003859  0.003859  0.003852    2498.873956   \n",
       "4  23-08-2018  3284.750000  0.990352 -0.009648 -0.009695    2498.873956   \n",
       "\n",
       "   Forecast_Acc  \n",
       "0      0.313652  \n",
       "1      0.297504  \n",
       "2      0.322196  \n",
       "3      0.327298  \n",
       "4      0.314492  "
      ]
     },
     "execution_count": 9,
     "metadata": {},
     "output_type": "execute_result"
    }
   ],
   "source": [
    "df.head()\n",
    "\n",
    "# n = 1000\n",
    "# run 1000 times (for loop 0-n)\n",
    "# run arrays for s1, s2, s3, s4, s5\n",
    "# in a loop generate s1temp, s2temp, s3temp, s4temp, s5temp\n",
    "# append into s1.append(s1temp)........\n",
    "# will have 5 arrays - s1, s2, s3, s4, s5 (0-999 elements)\n",
    "# s1.mean, s2.mean, s3.mean, s4.mean, s5.mean - gives predicted values - pred\n",
    "# forecast error - (close-pred)/pred\n",
    "# forecast accuracy - 1-forecast error\n",
    "# show forecast accuracy for only the Test rows\n"
   ]
  },
  {
   "cell_type": "code",
   "execution_count": 12,
   "metadata": {},
   "outputs": [],
   "source": [
    "df.to_csv(\"C:\\\\Users\\sabta\\Documents\\MTech\\AI\\Stock_Forecast_1K.csv\")"
   ]
  },
  {
   "cell_type": "code",
   "execution_count": 13,
   "metadata": {},
   "outputs": [],
   "source": [
    "# Run for 1Lakh\n",
    "# Loop count\n",
    "n = 100000\n",
    "# Create empty arrays for each of the Return values\n",
    "s1 = np.zeros(n, dtype=float)\n",
    "s2 = np.zeros(n, dtype=float)\n",
    "s3 = np.zeros(n, dtype=float)\n",
    "s4 = np.zeros(n, dtype=float)\n",
    "s5 = np.zeros(n, dtype=float)\n",
    "\n",
    "for i in range(0, n):\n",
    "    s1temp = s0 * (math.exp(mean2 - ((sd2 ** 2) / 2))) + sd2 * np.random.normal()\n",
    "    s2temp = s1temp * (math.exp(mean2 - ((sd2 ** 2) / 2))) + sd2 * np.random.normal()\n",
    "    s3temp = s2temp * (math.exp(mean2 - ((sd2 ** 2) / 2))) + sd2 * np.random.normal()\n",
    "    s4temp = s3temp * (math.exp(mean2 - ((sd2 ** 2) / 2))) + sd2 * np.random.normal()\n",
    "    s5temp = s4temp * (math.exp(mean2 - ((sd2 ** 2) / 2))) + sd2 * np.random.normal()\n",
    "\n",
    "    s1[i] = s1temp\n",
    "    s2[i] = s2temp\n",
    "    s3[i] = s3temp\n",
    "    s4[i] = s4temp\n",
    "    s5[i] = s5temp"
   ]
  },
  {
   "cell_type": "code",
   "execution_count": 14,
   "metadata": {},
   "outputs": [
    {
     "data": {
      "text/plain": [
       "2503.122948625884"
      ]
     },
     "execution_count": 14,
     "metadata": {},
     "output_type": "execute_result"
    }
   ],
   "source": [
    "st.mean(s1)"
   ]
  },
  {
   "cell_type": "code",
   "execution_count": 15,
   "metadata": {},
   "outputs": [
    {
     "name": "stdout",
     "output_type": "stream",
     "text": [
      "2503.122948625884\n",
      "2500.9976233856196\n",
      "2498.8741114057393\n",
      "2496.7524545681154\n",
      "2494.6324498301333\n",
      "2498.875917563098\n"
     ]
    }
   ],
   "source": [
    "pred_mean1 = st.mean(s1)\n",
    "pred_mean2 = st.mean(s2)\n",
    "pred_mean3 = st.mean(s3)\n",
    "pred_mean4 = st.mean(s4)\n",
    "pred_mean5 = st.mean(s5)\n",
    "pred_mean = (pred_mean1+pred_mean2+pred_mean3+pred_mean4+pred_mean5)/5\n",
    "df['Returns2_Pred'] = pred_mean\n",
    "\n",
    "print(pred_mean1)\n",
    "print(pred_mean2)\n",
    "print(pred_mean3)\n",
    "print(pred_mean4)\n",
    "print(pred_mean5)\n",
    "print(pred_mean)"
   ]
  },
  {
   "cell_type": "code",
   "execution_count": 16,
   "metadata": {},
   "outputs": [
    {
     "data": {
      "text/html": [
       "<div>\n",
       "<style scoped>\n",
       "    .dataframe tbody tr th:only-of-type {\n",
       "        vertical-align: middle;\n",
       "    }\n",
       "\n",
       "    .dataframe tbody tr th {\n",
       "        vertical-align: top;\n",
       "    }\n",
       "\n",
       "    .dataframe thead th {\n",
       "        text-align: right;\n",
       "    }\n",
       "</style>\n",
       "<table border=\"1\" class=\"dataframe\">\n",
       "  <thead>\n",
       "    <tr style=\"text-align: right;\">\n",
       "      <th></th>\n",
       "      <th>Date</th>\n",
       "      <th>Close</th>\n",
       "      <th>Returns1</th>\n",
       "      <th>Returns2</th>\n",
       "      <th>Returns3</th>\n",
       "      <th>Returns2_Pred</th>\n",
       "      <th>Forecast_Err</th>\n",
       "    </tr>\n",
       "  </thead>\n",
       "  <tbody>\n",
       "    <tr>\n",
       "      <th>0</th>\n",
       "      <td>16-08-2018</td>\n",
       "      <td>3282.649902</td>\n",
       "      <td>0.000000</td>\n",
       "      <td>0.000000</td>\n",
       "      <td>0.000000</td>\n",
       "      <td>2498.875918</td>\n",
       "      <td>0.313651</td>\n",
       "    </tr>\n",
       "    <tr>\n",
       "      <th>1</th>\n",
       "      <td>17-08-2018</td>\n",
       "      <td>3242.300049</td>\n",
       "      <td>0.987708</td>\n",
       "      <td>-0.012292</td>\n",
       "      <td>-0.012368</td>\n",
       "      <td>2498.875918</td>\n",
       "      <td>0.297504</td>\n",
       "    </tr>\n",
       "    <tr>\n",
       "      <th>2</th>\n",
       "      <td>20-08-2018</td>\n",
       "      <td>3304.000000</td>\n",
       "      <td>1.019030</td>\n",
       "      <td>0.019030</td>\n",
       "      <td>0.018851</td>\n",
       "      <td>2498.875918</td>\n",
       "      <td>0.322195</td>\n",
       "    </tr>\n",
       "    <tr>\n",
       "      <th>3</th>\n",
       "      <td>21-08-2018</td>\n",
       "      <td>3316.750000</td>\n",
       "      <td>1.003859</td>\n",
       "      <td>0.003859</td>\n",
       "      <td>0.003852</td>\n",
       "      <td>2498.875918</td>\n",
       "      <td>0.327298</td>\n",
       "    </tr>\n",
       "    <tr>\n",
       "      <th>4</th>\n",
       "      <td>23-08-2018</td>\n",
       "      <td>3284.750000</td>\n",
       "      <td>0.990352</td>\n",
       "      <td>-0.009648</td>\n",
       "      <td>-0.009695</td>\n",
       "      <td>2498.875918</td>\n",
       "      <td>0.314492</td>\n",
       "    </tr>\n",
       "  </tbody>\n",
       "</table>\n",
       "</div>"
      ],
      "text/plain": [
       "         Date        Close  Returns1  Returns2  Returns3  Returns2_Pred  \\\n",
       "0  16-08-2018  3282.649902  0.000000  0.000000  0.000000    2498.875918   \n",
       "1  17-08-2018  3242.300049  0.987708 -0.012292 -0.012368    2498.875918   \n",
       "2  20-08-2018  3304.000000  1.019030  0.019030  0.018851    2498.875918   \n",
       "3  21-08-2018  3316.750000  1.003859  0.003859  0.003852    2498.875918   \n",
       "4  23-08-2018  3284.750000  0.990352 -0.009648 -0.009695    2498.875918   \n",
       "\n",
       "   Forecast_Err  \n",
       "0      0.313651  \n",
       "1      0.297504  \n",
       "2      0.322195  \n",
       "3      0.327298  \n",
       "4      0.314492  "
      ]
     },
     "execution_count": 16,
     "metadata": {},
     "output_type": "execute_result"
    }
   ],
   "source": [
    "df.head()"
   ]
  },
  {
   "cell_type": "code",
   "execution_count": 17,
   "metadata": {},
   "outputs": [],
   "source": [
    "df['Forecast_Err'] = (df['Close']-df['Returns2_Pred'])/df['Returns2_Pred']"
   ]
  },
  {
   "cell_type": "code",
   "execution_count": 18,
   "metadata": {},
   "outputs": [
    {
     "name": "stdout",
     "output_type": "stream",
     "text": [
      "0.12070242344431029\n",
      "Forecasting Accuracy is :87.92975765556898\n"
     ]
    }
   ],
   "source": [
    "fore_err2 = st.mean(df['Forecast_Err'])\n",
    "print(fore_err2)\n",
    "print(\"Forecasting Accuracy is :\"+str((1-fore_err2)*100))"
   ]
  },
  {
   "cell_type": "code",
   "execution_count": 19,
   "metadata": {},
   "outputs": [],
   "source": [
    "df.to_csv(\"C:\\\\Users\\sabta\\Documents\\MTech\\AI\\Stock_Forecast_1L.csv\")"
   ]
  },
  {
   "cell_type": "code",
   "execution_count": null,
   "metadata": {},
   "outputs": [],
   "source": []
  },
  {
   "cell_type": "code",
   "execution_count": null,
   "metadata": {},
   "outputs": [],
   "source": []
  },
  {
   "cell_type": "code",
   "execution_count": null,
   "metadata": {},
   "outputs": [],
   "source": []
  },
  {
   "cell_type": "code",
   "execution_count": null,
   "metadata": {},
   "outputs": [],
   "source": []
  },
  {
   "cell_type": "code",
   "execution_count": null,
   "metadata": {},
   "outputs": [],
   "source": []
  },
  {
   "cell_type": "code",
   "execution_count": null,
   "metadata": {},
   "outputs": [],
   "source": []
  }
 ],
 "metadata": {
  "kernelspec": {
   "display_name": "Python 3",
   "language": "python",
   "name": "python3"
  },
  "language_info": {
   "codemirror_mode": {
    "name": "ipython",
    "version": 3
   },
   "file_extension": ".py",
   "mimetype": "text/x-python",
   "name": "python",
   "nbconvert_exporter": "python",
   "pygments_lexer": "ipython3",
   "version": "3.7.3"
  }
 },
 "nbformat": 4,
 "nbformat_minor": 2
}
